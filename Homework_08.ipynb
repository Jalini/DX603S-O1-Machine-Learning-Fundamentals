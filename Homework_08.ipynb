{
 "cells": [
  {
   "cell_type": "markdown",
   "metadata": {},
   "source": [
    "## Homework 08: Classification\n",
    "\n",
    "**Due:** Midnight on June 11th, BUT no late points will be charged if you get it in by the last late deadline. \n",
    "\n",
    "### Overview\n",
    "\n",
    "In this final homework before starting our course project, we will introduce the essential machine learning paradigm of **classification**. We will work with the **UCI Adult** dataset. This is a binary classification task.\n",
    "\n",
    "As we’ve discussed in this week’s lessons, the classification workflow is similar to what we’ve done for regression, with a few key differences:\n",
    "- We use `StratifiedKFold` instead of plain `KFold` so that every fold keeps the original class proportions.\n",
    "- We use classification metrics (e.g., accuracy, precision, recall, F1-score for binary classification) instead of regression metrics.\n",
    "- We could explore misclassified instances through a confusion matrix (though we will not do that in this homework).\n",
    "\n",
    "For this assignment, you’ll build a gradient boosting classification using `HistGradientBoostingClassifier` (HGBC) and explore ways of tuning the hyperparameters, including using the technique of early stopping, which basically avoiding have to tune the number of estimators (called `max_iter` in HGBC). \n",
    "\n",
    "HGBC has many advantages, which we explain below. \n",
    "\n",
    "\n",
    "### Grading\n",
    "\n",
    "There are 7 graded problems, each worth 7 points, and you get 1 point free if you complete the assignment. "
   ]
  },
  {
   "cell_type": "code",
   "execution_count": 1,
   "metadata": {},
   "outputs": [
    {
     "name": "stdout",
     "output_type": "stream",
     "text": [
      "Defaulting to user installation because normal site-packages is not writeable\n",
      "Requirement already satisfied: optuna in c:\\users\\jalin\\appdata\\roaming\\python\\python312\\site-packages (4.4.0)\n",
      "Requirement already satisfied: alembic>=1.5.0 in c:\\users\\jalin\\appdata\\roaming\\python\\python312\\site-packages (from optuna) (1.16.2)\n",
      "Requirement already satisfied: colorlog in c:\\users\\jalin\\appdata\\roaming\\python\\python312\\site-packages (from optuna) (6.9.0)\n",
      "Requirement already satisfied: numpy in c:\\programdata\\anaconda3\\lib\\site-packages (from optuna) (1.26.4)\n",
      "Requirement already satisfied: packaging>=20.0 in c:\\programdata\\anaconda3\\lib\\site-packages (from optuna) (24.1)\n",
      "Requirement already satisfied: sqlalchemy>=1.4.2 in c:\\programdata\\anaconda3\\lib\\site-packages (from optuna) (2.0.34)\n",
      "Requirement already satisfied: tqdm in c:\\programdata\\anaconda3\\lib\\site-packages (from optuna) (4.66.5)\n",
      "Requirement already satisfied: PyYAML in c:\\programdata\\anaconda3\\lib\\site-packages (from optuna) (6.0.1)\n",
      "Requirement already satisfied: Mako in c:\\users\\jalin\\appdata\\roaming\\python\\python312\\site-packages (from alembic>=1.5.0->optuna) (1.3.10)\n",
      "Requirement already satisfied: typing-extensions>=4.12 in c:\\users\\jalin\\appdata\\roaming\\python\\python312\\site-packages (from alembic>=1.5.0->optuna) (4.14.1)\n",
      "Requirement already satisfied: greenlet!=0.4.17 in c:\\programdata\\anaconda3\\lib\\site-packages (from sqlalchemy>=1.4.2->optuna) (3.0.1)\n",
      "Requirement already satisfied: colorama in c:\\programdata\\anaconda3\\lib\\site-packages (from colorlog->optuna) (0.4.6)\n",
      "Requirement already satisfied: MarkupSafe>=0.9.2 in c:\\programdata\\anaconda3\\lib\\site-packages (from Mako->alembic>=1.5.0->optuna) (2.1.3)\n",
      "Note: you may need to restart the kernel to use updated packages.\n"
     ]
    }
   ],
   "source": [
    "pip install optuna"
   ]
  },
  {
   "cell_type": "code",
   "execution_count": 2,
   "metadata": {},
   "outputs": [],
   "source": [
    "# General utilities\n",
    "import os\n",
    "import io\n",
    "import time\n",
    "import zipfile\n",
    "import requests\n",
    "from collections import Counter\n",
    "\n",
    "# Data handling and visualization\n",
    "import numpy as np\n",
    "import pandas as pd\n",
    "import matplotlib.pyplot as plt\n",
    "from tqdm import tqdm\n",
    "from IPython.display import display\n",
    " \n",
    "# Data source\n",
    "from sklearn.datasets import fetch_openml\n",
    "\n",
    " \n",
    "# scikit-learn core tools \n",
    "from sklearn.model_selection import (\n",
    "    train_test_split,\n",
    "    cross_val_score,\n",
    "    StratifiedKFold,\n",
    "    RandomizedSearchCV\n",
    ")\n",
    "\n",
    "from sklearn.pipeline import Pipeline\n",
    "from sklearn.compose import ColumnTransformer\n",
    "from sklearn.preprocessing import OrdinalEncoder\n",
    "\n",
    " \n",
    "# Import model \n",
    "from sklearn.ensemble import HistGradientBoostingClassifier\n",
    " \n",
    "# Metrics\n",
    "from sklearn.metrics import balanced_accuracy_score, classification_report\n",
    " \n",
    "# Distributions for random search\n",
    "from scipy.stats import loguniform, randint, uniform\n",
    "\n",
    "# pandas dtypes helpers\n",
    "from pandas.api.types import is_numeric_dtype, is_categorical_dtype\n",
    "from pandas import CategoricalDtype\n",
    "\n",
    "# Optuna Hyperparameter Search tool    (may need to be installed)\n",
    "import optuna\n",
    "\n",
    "\n",
    "# Misc\n",
    "\n",
    "random_seed = 42\n",
    "\n",
    "def format_hms(seconds):\n",
    "    return time.strftime(\"%H:%M:%S\", time.gmtime(seconds))\n",
    "\n"
   ]
  },
  {
   "cell_type": "markdown",
   "metadata": {},
   "source": [
    "### Prelude 1: Load and Preprocess the UCI Adult Income Dataset\n",
    "\n",
    "- Load the dataset from sklearn\n",
    "- Preliminary EDA\n",
    "- Feature Engineering "
   ]
  },
  {
   "cell_type": "code",
   "execution_count": 3,
   "metadata": {},
   "outputs": [
    {
     "name": "stdout",
     "output_type": "stream",
     "text": [
      "<class 'pandas.core.frame.DataFrame'>\n",
      "RangeIndex: 48842 entries, 0 to 48841\n",
      "Data columns (total 15 columns):\n",
      " #   Column          Non-Null Count  Dtype   \n",
      "---  ------          --------------  -----   \n",
      " 0   age             48842 non-null  int64   \n",
      " 1   workclass       46043 non-null  category\n",
      " 2   fnlwgt          48842 non-null  int64   \n",
      " 3   education       48842 non-null  category\n",
      " 4   education-num   48842 non-null  int64   \n",
      " 5   marital-status  48842 non-null  category\n",
      " 6   occupation      46033 non-null  category\n",
      " 7   relationship    48842 non-null  category\n",
      " 8   race            48842 non-null  category\n",
      " 9   sex             48842 non-null  category\n",
      " 10  capital-gain    48842 non-null  int64   \n",
      " 11  capital-loss    48842 non-null  int64   \n",
      " 12  hours-per-week  48842 non-null  int64   \n",
      " 13  native-country  47985 non-null  category\n",
      " 14  class           48842 non-null  category\n",
      "dtypes: category(9), int64(6)\n",
      "memory usage: 2.7 MB\n"
     ]
    }
   ],
   "source": [
    "# Load and clean\n",
    "df = fetch_openml(name='adult', version=2, as_frame=True).frame\n",
    "\n",
    "df.replace(\"?\", np.nan, inplace=True)            # Some datasets use ? instead of Nan for missing data\n",
    "\n",
    "df.info()"
   ]
  },
  {
   "cell_type": "markdown",
   "metadata": {},
   "source": [
    "#### Check: Is the dataset imbalanced?"
   ]
  },
  {
   "cell_type": "code",
   "execution_count": 4,
   "metadata": {},
   "outputs": [
    {
     "name": "stdout",
     "output_type": "stream",
     "text": [
      "class\n",
      "<=50K    0.760718\n",
      ">50K     0.239282\n",
      "Name: proportion, dtype: float64\n"
     ]
    }
   ],
   "source": [
    "print(df['class'].value_counts(normalize=True))"
   ]
  },
  {
   "cell_type": "markdown",
   "metadata": {},
   "source": [
    "**YES:** It looks like this dataset is somewhat imbalanced. Therefore, we will \n",
    "1. Tell the model to compensate during training by setting `class_weight='balanced'` when defining the model;\n",
    "2. Evaluate it `balanced_accuracy` instead of `accuracy` and with class-aware metrics (precision, recall, F1); and\n",
    "3. [Optional] Adjust the probability threshold instead of relying on raw accuracy alone after examining the precision-recall trade-off you observe at 0.5.\n",
    "    "
   ]
  },
  {
   "cell_type": "markdown",
   "metadata": {},
   "source": [
    "### Feature Engineering\n",
    "\n",
    "Based on the considerations in **Appendix One**, we'll make the following changes to the dataset to facilitate training:\n",
    "\n",
    "\n",
    "1. Drop `fnlwgt` and `education`.   \n",
    "3. Replace `capital-gain` and `capital-loss` by their difference `capital_net` and add a log-scaled version `capital_net_log`.\n"
   ]
  },
  {
   "cell_type": "code",
   "execution_count": 5,
   "metadata": {},
   "outputs": [
    {
     "name": "stdout",
     "output_type": "stream",
     "text": [
      "<class 'pandas.core.frame.DataFrame'>\n",
      "RangeIndex: 48842 entries, 0 to 48841\n",
      "Data columns (total 13 columns):\n",
      " #   Column           Non-Null Count  Dtype   \n",
      "---  ------           --------------  -----   \n",
      " 0   age              48842 non-null  int64   \n",
      " 1   workclass        46043 non-null  category\n",
      " 2   education-num    48842 non-null  int64   \n",
      " 3   marital-status   48842 non-null  category\n",
      " 4   occupation       46033 non-null  category\n",
      " 5   relationship     48842 non-null  category\n",
      " 6   race             48842 non-null  category\n",
      " 7   sex              48842 non-null  category\n",
      " 8   hours-per-week   48842 non-null  int64   \n",
      " 9   native-country   47985 non-null  category\n",
      " 10  class            48842 non-null  category\n",
      " 11  capital_net      48842 non-null  int64   \n",
      " 12  capital_net_log  48842 non-null  float64 \n",
      "dtypes: category(8), float64(1), int64(4)\n",
      "memory usage: 2.2 MB\n"
     ]
    }
   ],
   "source": [
    "# Drop the survey-weight column\n",
    "df_eng = df.drop(columns=[\"fnlwgt\"])\n",
    "\n",
    "# Keep only the ordinal education feature\n",
    "df_eng = df_eng.drop(columns=[\"education\"])      # retain 'education-num'\n",
    "\n",
    "# Combine capital gains and losses, add a log-scaled variant\n",
    "df_eng[\"capital_net\"]     = df_eng[\"capital-gain\"] - df_eng[\"capital-loss\"]\n",
    "df_eng[\"capital_net_log\"] = np.log1p(df_eng[\"capital_net\"].clip(lower=0))\n",
    "df_eng = df_eng.drop(columns=[\"capital-gain\", \"capital-loss\"])\n",
    "\n",
    "# check\n",
    "df_eng.info()"
   ]
  },
  {
   "cell_type": "markdown",
   "metadata": {},
   "source": [
    "#### Separate target and split\n",
    "\n",
    "Create the feature set `X` and the target set `y` (using `class` as the target) and split the dataset into 80% training and 20% testing sets, making sure to stratify."
   ]
  },
  {
   "cell_type": "code",
   "execution_count": 6,
   "metadata": {},
   "outputs": [
    {
     "name": "stdout",
     "output_type": "stream",
     "text": [
      "Train: (39073, 12) (39073,)\n",
      "Test : (9769, 12) (9769,)\n"
     ]
    }
   ],
   "source": [
    "\n",
    "X = df_eng.drop(columns=[\"class\"])\n",
    "y = (df_eng[\"class\"] == \">50K\").astype(int)\n",
    "\n",
    "# Split (with stratification)\n",
    "X_train, X_test, y_train, y_test = train_test_split(\n",
    "    X, y,\n",
    "    test_size=0.2,\n",
    "    random_state=random_seed,\n",
    "    stratify=y                           # So same proportion of classes in train and test sets\n",
    ")\n",
    "\n",
    "print(\"Train:\", X_train.shape, y_train.shape)\n",
    "print(\"Test :\", X_test.shape,  y_test.shape)"
   ]
  },
  {
   "cell_type": "markdown",
   "metadata": {},
   "source": [
    "### Prelude 2: Create a data pipeline and the `HistGradientBoostingClassifier` model\n",
    "\n",
    "Histogram-based gradient boosting improves on the standard version by:\n",
    "\n",
    "* **Histogram splits:** bins each feature into ≤ `max_bins` quantiles (i.e., each bin is approximately the same size) and tests splits only between bins, slashing compute time and scaling to large data sets. Default for `max_bins` = 255. \n",
    "* **Native NaN handling:** treats missing values as their own bin—no imputation needed.\n",
    "* **Native Categorical Support**: accepts integer-encoded categories directly and tests “category c vs. all others” splits, eliminating one-hot blow-ups and fake orderings.\n",
    "* **Built-in early stopping:** stops training after no improvement in validation loss after `n_iter_no_change` rounds. `tol` defines \"improvement\" (default is 1e-7). \n",
    "* **Leaf shrinkage:** adds `l2_regularization`, which ridge-shrinks each leaf value (without changing tree shape) so tiny, noisy leaves have less effect.\n",
    "\n",
    ">**Summary:**  Histogram-based GB trades a tiny approximation error (binning) for a **huge speed-up** and adds extra conveniences, making it the preferred choice for large tabular data sets. Tuning workflow relies on **Early stopping** to stop training before overfitting occurs. "
   ]
  },
  {
   "cell_type": "code",
   "execution_count": 7,
   "metadata": {},
   "outputs": [],
   "source": [
    "# Define a baseline model \n",
    "\n",
    "HGBC_model = HistGradientBoostingClassifier(\n",
    "    # tree structure and learning rate\n",
    "    learning_rate=0.1,            # These 5 parameters are at defaults for our baseline training in Problem 1             \n",
    "    max_leaf_nodes=31,            # but will be tuned by randomized search in Problem 2 and Optuna in Problem 3               \n",
    "    max_depth=None,               \n",
    "    min_samples_leaf=20,          \n",
    "    l2_regularization=0.0,        \n",
    "\n",
    "    # bins and iteration\n",
    "    max_bins=255,                 # default\n",
    "    max_iter=500,                 # high enough for early stopping\n",
    "    early_stopping=True,\n",
    "    n_iter_no_change=20,\n",
    "    validation_fraction=0.2,      # 20% monitored for early stopping\n",
    "    tol=1e-7,                     # default tolerance for validation improvement\n",
    "\n",
    "    # class imbalance\n",
    "    class_weight=\"balanced\",\n",
    "\n",
    "    random_state=random_seed,\n",
    "    verbose=0\n",
    ")\n"
   ]
  },
  {
   "cell_type": "markdown",
   "metadata": {},
   "source": [
    "### Create a pipeline appropriate for HGBC \n",
    "\n",
    "**Why use a `Pipeline` instead of encoding in the dataset first?**\n",
    "\n",
    "* **Avoid data leakage.** In each CV fold, the `OrdinalEncoder` is refit only on that fold’s training data, so the validation split never influences the encoder.\n",
    "* **Single, reusable object.** The pipeline bundles preprocessing + model, letting you call `fit`/`predict` on raw data anywhere (CV, Optuna, production) with identical behavior.\n",
    "* **Compatible with search tools.** `cross_validate`, `GridSearchCV`, and Optuna expect an estimator that can be cloned and refit; a pipeline meets that requirement automatically.\n",
    "\n",
    "Put simply, the pipeline gives you leak-free evaluation and portable, hassle-free tuning without extra code.\n"
   ]
  },
  {
   "cell_type": "code",
   "execution_count": 8,
   "metadata": {},
   "outputs": [],
   "source": [
    "enc = OrdinalEncoder(\n",
    "    handle_unknown=\"use_encoded_value\",   # Allow unseen categories during transform\n",
    "    unknown_value=-1,                     # Code for unseen categories\n",
    "    encoded_missing_value=-2,             # Code for missing values (NaN)\n",
    "    dtype=np.int64                        # Needed for HistGradientBoostingClassifier\n",
    ")\n",
    "\n",
    "# Categorical features\n",
    "cat_cols = X.select_dtypes(exclude=[\"number\"]).columns.tolist()\n",
    "\n",
    "# Numeric features (everything that isn’t object / category)\n",
    "num_cols = X.select_dtypes(include=[\"number\"]).columns.tolist()\n",
    "\n",
    "preprocess = ColumnTransformer(\n",
    "    [(\"cat\", enc, cat_cols),\n",
    "     (\"num\", \"passthrough\", num_cols)]\n",
    ")\n",
    "\n",
    "pipelined_model = Pipeline([\n",
    "    (\"prep\", preprocess),\n",
    "    (\"gb\",   HGBC_model)\n",
    "])"
   ]
  },
  {
   "cell_type": "markdown",
   "metadata": {},
   "source": [
    "## Problem 1: Baseline Cross-Validation with F1\n",
    "\n",
    "In this problem, you will run a baseline cross-validation evaluation of your `HistGradientBoostingClassifier` pipeline, using `HGBC_model` defined above. \n",
    "\n",
    "**Background:**\n",
    "\n",
    "* Since the Adult dataset is imbalanced (about 24% positives, 76% negatives), accuracy alone is not reliable.\n",
    "* We will use the **F1 score** as the evaluation metric, since it balances precision (avoiding false positives) and recall (avoiding false negatives) in a single measure. This is a fairer metric for imbalanced classification, where both types of error matter.\n",
    "* We will apply **5-fold stratified cross-validation** to make sure each fold has the same proportion of the classes as the original dataset.\n",
    "* Repeated cross-validation is optional and not required here, because the Adult dataset is large and `HistGradientBoostingClassifier` is robust to small sampling differences. \n",
    "\n",
    "**Instructions:**\n",
    "\n",
    "1. Set up a `StratifiedKFold` cross-validation object with 5 splits, shuffling enabled, and `random_state=random_seed`.\n",
    "2. Use `cross_val_score` to estimate the mean F1 score and its standard deviation across the folds.\n",
    "3. Print out the mean and standard deviation of the F1 score, rounded to 4 decimal places.\n",
    "4. Answer the graded question.\n"
   ]
  },
  {
   "cell_type": "code",
   "execution_count": 9,
   "metadata": {},
   "outputs": [
    {
     "name": "stdout",
     "output_type": "stream",
     "text": [
      "Baseline F1 Score: 0.7123 ± 0.0035\n"
     ]
    }
   ],
   "source": [
    "# Your code here\n",
    "\n",
    "# 1. Define StratifiedKFold\n",
    "skf = StratifiedKFold(\n",
    "    n_splits=5,\n",
    "    shuffle=True,\n",
    "    random_state=random_seed\n",
    ")\n",
    "\n",
    "# 2. Run cross_val_score with 'f1' as the scoring\n",
    "f1_scores = cross_val_score(\n",
    "    pipelined_model,\n",
    "    X_train,\n",
    "    y_train,\n",
    "    cv=skf,\n",
    "    scoring='f1',    # use built-in scoring string\n",
    "    n_jobs=-1        # parallel processing for speed\n",
    ")\n",
    "\n",
    "# 3. Print mean and std\n",
    "print(\"Baseline F1 Score: {:.4f} ± {:.4f}\".format(f1_scores.mean(), f1_scores.std()))\n"
   ]
  },
  {
   "cell_type": "markdown",
   "metadata": {},
   "source": [
    "### Problem 1 Graded Answer\n",
    "\n",
    "Set `a1` to the mean F1 score of the baseline model. "
   ]
  },
  {
   "cell_type": "code",
   "execution_count": 10,
   "metadata": {},
   "outputs": [],
   "source": [
    " # Your answer here\n",
    "\n",
    "a1 = f1_scores.mean()        # replace 0 with an expression"
   ]
  },
  {
   "cell_type": "code",
   "execution_count": 11,
   "metadata": {},
   "outputs": [
    {
     "name": "stdout",
     "output_type": "stream",
     "text": [
      "a1 = 0.7123\n"
     ]
    }
   ],
   "source": [
    "# DO NOT change this cell in any way\n",
    "\n",
    "print(f'a1 = {a1:.4f}')"
   ]
  },
  {
   "cell_type": "markdown",
   "metadata": {},
   "source": [
    "## Problem 2: Hyperparameter Optimization with Randomized Search for F1\n",
    "\n",
    "In this problem, you will tune your `pipelined_model` using `RandomizedSearchCV` to identify the best combination of tree structure and learning rate parameters that maximize the **F1 score**.\n",
    "\n",
    "**Background:**\n",
    "The F1 score is our main metric because it balances precision and recall on an imbalanced dataset. Optimizing hyperparameters for F1 ensures we manage both false positives and false negatives in a single measure.\n",
    "\n",
    "**Instructions:**\n",
    "\n",
    "1. Set up a randomized search over the following hyperparameter ranges, using appropriate random-number distributions:\n",
    "\n",
    "   * `learning_rate` (log-uniform between 1e-3 and 0.3)\n",
    "   * `max_leaf_nodes` (integer from 16 to 256)\n",
    "   * `max_depth` (integer from 2 to 10)\n",
    "   * `min_samples_leaf` (integer from 10 to 200)\n",
    "   * `l2_regularization` (uniform between 0.0 and 2.0)\n",
    "2. Use **5-fold stratified cross-validation**, with the same settings as in Problem 1.\n",
    "3. Set `n_iter` to at least 100 trials. More trials will generally yield better results, if your time and machine allow.\n",
    "4. After running the search, show a neatly formatted table of the top 5 results, using `display(...)` showing their mean F1 scores, standard deviation, and the chosen hyperparameter values.\n",
    "5. Answer the graded question.\n",
    "\n",
    "\n"
   ]
  },
  {
   "cell_type": "code",
   "execution_count": 12,
   "metadata": {},
   "outputs": [
    {
     "name": "stdout",
     "output_type": "stream",
     "text": [
      "Fitting 5 folds for each of 100 candidates, totalling 500 fits\n",
      "RandomizedSearchCV done in 00:11:57\n"
     ]
    },
    {
     "data": {
      "text/html": [
       "<div>\n",
       "<style scoped>\n",
       "    .dataframe tbody tr th:only-of-type {\n",
       "        vertical-align: middle;\n",
       "    }\n",
       "\n",
       "    .dataframe tbody tr th {\n",
       "        vertical-align: top;\n",
       "    }\n",
       "\n",
       "    .dataframe thead th {\n",
       "        text-align: right;\n",
       "    }\n",
       "</style>\n",
       "<table border=\"1\" class=\"dataframe\">\n",
       "  <thead>\n",
       "    <tr style=\"text-align: right;\">\n",
       "      <th></th>\n",
       "      <th>mean_F1</th>\n",
       "      <th>std_F1</th>\n",
       "      <th>param_gb__learning_rate</th>\n",
       "      <th>param_gb__max_leaf_nodes</th>\n",
       "      <th>param_gb__max_depth</th>\n",
       "      <th>param_gb__min_samples_leaf</th>\n",
       "      <th>param_gb__l2_regularization</th>\n",
       "    </tr>\n",
       "  </thead>\n",
       "  <tbody>\n",
       "    <tr>\n",
       "      <th>19</th>\n",
       "      <td>0.712000</td>\n",
       "      <td>0.003063</td>\n",
       "      <td>0.127541</td>\n",
       "      <td>48</td>\n",
       "      <td>3</td>\n",
       "      <td>57</td>\n",
       "      <td>1.829919</td>\n",
       "    </tr>\n",
       "    <tr>\n",
       "      <th>60</th>\n",
       "      <td>0.711962</td>\n",
       "      <td>0.004237</td>\n",
       "      <td>0.268164</td>\n",
       "      <td>206</td>\n",
       "      <td>5</td>\n",
       "      <td>169</td>\n",
       "      <td>1.144585</td>\n",
       "    </tr>\n",
       "    <tr>\n",
       "      <th>21</th>\n",
       "      <td>0.711405</td>\n",
       "      <td>0.003213</td>\n",
       "      <td>0.157664</td>\n",
       "      <td>242</td>\n",
       "      <td>2</td>\n",
       "      <td>110</td>\n",
       "      <td>1.275115</td>\n",
       "    </tr>\n",
       "    <tr>\n",
       "      <th>59</th>\n",
       "      <td>0.711045</td>\n",
       "      <td>0.003477</td>\n",
       "      <td>0.229549</td>\n",
       "      <td>61</td>\n",
       "      <td>2</td>\n",
       "      <td>190</td>\n",
       "      <td>1.495438</td>\n",
       "    </tr>\n",
       "    <tr>\n",
       "      <th>14</th>\n",
       "      <td>0.711026</td>\n",
       "      <td>0.002790</td>\n",
       "      <td>0.070991</td>\n",
       "      <td>39</td>\n",
       "      <td>6</td>\n",
       "      <td>163</td>\n",
       "      <td>1.689068</td>\n",
       "    </tr>\n",
       "  </tbody>\n",
       "</table>\n",
       "</div>"
      ],
      "text/plain": [
       "     mean_F1    std_F1  param_gb__learning_rate  param_gb__max_leaf_nodes  \\\n",
       "19  0.712000  0.003063                 0.127541                        48   \n",
       "60  0.711962  0.004237                 0.268164                       206   \n",
       "21  0.711405  0.003213                 0.157664                       242   \n",
       "59  0.711045  0.003477                 0.229549                        61   \n",
       "14  0.711026  0.002790                 0.070991                        39   \n",
       "\n",
       "    param_gb__max_depth  param_gb__min_samples_leaf  \\\n",
       "19                    3                          57   \n",
       "60                    5                         169   \n",
       "21                    2                         110   \n",
       "59                    2                         190   \n",
       "14                    6                         163   \n",
       "\n",
       "    param_gb__l2_regularization  \n",
       "19                     1.829919  \n",
       "60                     1.144585  \n",
       "21                     1.275115  \n",
       "59                     1.495438  \n",
       "14                     1.689068  "
      ]
     },
     "metadata": {},
     "output_type": "display_data"
    }
   ],
   "source": [
    "# Your code here\n",
    "\n",
    "# Step 1. Define parameter distributions\n",
    "\n",
    "param_distributions = {\n",
    "    \"gb__learning_rate\": loguniform(1e-3, 0.3),\n",
    "    \"gb__max_leaf_nodes\": randint(16, 257),    # randint upper bound is exclusive\n",
    "    \"gb__max_depth\": randint(2, 11),\n",
    "    \"gb__min_samples_leaf\": randint(10, 201),\n",
    "    \"gb__l2_regularization\": uniform(0.0, 2.0)\n",
    "}\n",
    "\n",
    "# Step 2. Define StratifiedKFold\n",
    "\n",
    "skf = StratifiedKFold(\n",
    "    n_splits=5,\n",
    "    shuffle=True,\n",
    "    random_state=random_seed\n",
    ")\n",
    "\n",
    "# Step 3. Set up RandomizedSearchCV\n",
    "\n",
    "random_search = RandomizedSearchCV(\n",
    "    estimator=pipelined_model,\n",
    "    param_distributions=param_distributions,\n",
    "    n_iter=100,                   # at least 100 trials as instructed\n",
    "    scoring='f1',\n",
    "    n_jobs=-1,                    # parallelize for speed\n",
    "    cv=skf,\n",
    "    verbose=1,\n",
    "    random_state=random_seed,\n",
    "    return_train_score=False\n",
    ")\n",
    "\n",
    "\n",
    "# Step 4. Fit the search\n",
    "\n",
    "start_time = time.time()\n",
    "\n",
    "random_search.fit(X_train, y_train)\n",
    "\n",
    "print(\"RandomizedSearchCV done in\", format_hms(time.time() - start_time))\n",
    "\n",
    "# Step 5. Show top 5 results in a neatly formatted table\n",
    "\n",
    "# Convert cv_results_ to DataFrame for easier viewing\n",
    "results_df = pd.DataFrame(random_search.cv_results_)\n",
    "\n",
    "# Sort by mean test score descending\n",
    "results_df = results_df.sort_values(by='mean_test_score', ascending=False)\n",
    "\n",
    "# Select top 5 and relevant columns\n",
    "top5 = results_df[['mean_test_score', 'std_test_score',\n",
    "                   'param_gb__learning_rate',\n",
    "                   'param_gb__max_leaf_nodes',\n",
    "                   'param_gb__max_depth',\n",
    "                   'param_gb__min_samples_leaf',\n",
    "                   'param_gb__l2_regularization'\n",
    "                  ]].head(5)\n",
    "\n",
    "# Rename for clarity\n",
    "top5 = top5.rename(columns={'mean_test_score': 'mean_F1', 'std_test_score': 'std_F1'})\n",
    "\n",
    "# Display neatly\n",
    "display(top5)\n",
    "\n"
   ]
  },
  {
   "cell_type": "markdown",
   "metadata": {},
   "source": [
    "### Problem 2 Graded Answer\n",
    "\n",
    "Set `a2` to the mean F1 score of the best model found. "
   ]
  },
  {
   "cell_type": "code",
   "execution_count": 18,
   "metadata": {},
   "outputs": [],
   "source": [
    " # Your answer here\n",
    "\n",
    "a2 =  0.7120             # replace 0 with your answer, may copy from the displayed results"
   ]
  },
  {
   "cell_type": "code",
   "execution_count": 19,
   "metadata": {},
   "outputs": [
    {
     "name": "stdout",
     "output_type": "stream",
     "text": [
      "a2 = 0.7120\n"
     ]
    }
   ],
   "source": [
    "# DO NOT change this cell in any way\n",
    "\n",
    "print(f'a2 = {a2:.4f}')"
   ]
  },
  {
   "cell_type": "markdown",
   "metadata": {},
   "source": [
    "## Problem 3: Hyperparameter Optimization with Optuna for F1\n",
    "\n",
    "In this problem, you will explore **Optuna**, a powerful hyperparameter optimization framework, to identify the best combination of hyperparameters that maximize the F1 score of your `pipelined_model`.\n",
    "\n",
    "**Background:**\n",
    "Optuna uses a smarter sampling strategy than grid search or randomized search, allowing you to explore the hyperparameter space more efficiently. It also supports *pruning*, which can stop unpromising trials early to save time. This makes it a popular SOTA optimization tool.\n",
    "\n",
    "**Before you start** browse the [Optuna documentation](https://optuna.org) and view the [tutorial video](https://optuna.readthedocs.io/en/stable/tutorial/index.html). \n",
    "\n",
    "As before, we focus on the **F1 score** because it balances precision and recall, making it more robust on an imbalanced dataset.\n",
    "\n",
    "**Instructions:**\n",
    "\n",
    "1. Define an Optuna objective function to optimize F1 score, sampling the exact same hyperparameter ranges you did in Problem 2 and using the same CV settings.  \n",
    "3. Set up an Optuna study with a reasonable number of trials (e.g., 100–500 depending on runtime resources--on my machine Optuna runs about 10x faster than randomized search for the same number of trials, but YMMV).\n",
    "4. After running the optimization, `display` a clean table with the top 5 trials showing their F1 scores and corresponding hyperparameter settings.\n",
    "5. Answer the graded question. \n",
    "\n",
    "**Note:**  There are many resources on Optuna you can find on the web, but for this problem, you have my permission to let ChatGPT write the code for you. "
   ]
  },
  {
   "cell_type": "code",
   "execution_count": 13,
   "metadata": {},
   "outputs": [
    {
     "name": "stderr",
     "output_type": "stream",
     "text": [
      "[I 2025-07-06 00:47:42,270] A new study created in memory with name: no-name-7b70f3bd-31be-4c9e-8c7c-ff73f1ccee24\n",
      "[I 2025-07-06 00:47:44,606] Trial 0 finished with value: 0.7107966170882928 and parameters: {'learning_rate': 0.1729734885183484, 'max_leaf_nodes': 215, 'max_depth': 5, 'min_samples_leaf': 110, 'l2_regularization': 0.11515260587128373}. Best is trial 0 with value: 0.7107966170882928.\n",
      "[I 2025-07-06 00:47:46,272] Trial 1 finished with value: 0.7129536701783648 and parameters: {'learning_rate': 0.2940150441850706, 'max_leaf_nodes': 228, 'max_depth': 3, 'min_samples_leaf': 122, 'l2_regularization': 0.5265024476511451}. Best is trial 1 with value: 0.7129536701783648.\n",
      "[I 2025-07-06 00:47:48,016] Trial 2 finished with value: 0.7106869538638574 and parameters: {'learning_rate': 0.29295268235805294, 'max_leaf_nodes': 112, 'max_depth': 5, 'min_samples_leaf': 158, 'l2_regularization': 1.3662399190836594}. Best is trial 1 with value: 0.7129536701783648.\n",
      "[I 2025-07-06 00:47:52,142] Trial 3 finished with value: 0.7103826495080688 and parameters: {'learning_rate': 0.07404974630717265, 'max_leaf_nodes': 217, 'max_depth': 5, 'min_samples_leaf': 76, 'l2_regularization': 1.3603617939270694}. Best is trial 1 with value: 0.7129536701783648.\n",
      "[I 2025-07-06 00:47:57,697] Trial 4 finished with value: 0.6819764262742751 and parameters: {'learning_rate': 0.0076115907243717185, 'max_leaf_nodes': 227, 'max_depth': 6, 'min_samples_leaf': 145, 'l2_regularization': 1.8131389688899442}. Best is trial 1 with value: 0.7129536701783648.\n",
      "[I 2025-07-06 00:48:03,836] Trial 5 finished with value: 0.6985570354433128 and parameters: {'learning_rate': 0.013308158625859233, 'max_leaf_nodes': 48, 'max_depth': 6, 'min_samples_leaf': 110, 'l2_regularization': 1.846520558112256}. Best is trial 1 with value: 0.7129536701783648.\n",
      "[I 2025-07-06 00:48:13,315] Trial 6 finished with value: 0.6905382014920385 and parameters: {'learning_rate': 0.008375600769547518, 'max_leaf_nodes': 122, 'max_depth': 9, 'min_samples_leaf': 173, 'l2_regularization': 1.4536242549700837}. Best is trial 1 with value: 0.7129536701783648.\n",
      "[I 2025-07-06 00:48:22,127] Trial 7 finished with value: 0.7072136795696793 and parameters: {'learning_rate': 0.033702313614043036, 'max_leaf_nodes': 152, 'max_depth': 4, 'min_samples_leaf': 76, 'l2_regularization': 0.739832693870677}. Best is trial 1 with value: 0.7129536701783648.\n",
      "[I 2025-07-06 00:48:34,033] Trial 8 finished with value: 0.6836526914816092 and parameters: {'learning_rate': 0.006702129000524334, 'max_leaf_nodes': 228, 'max_depth': 7, 'min_samples_leaf': 128, 'l2_regularization': 1.522395622794468}. Best is trial 1 with value: 0.7129536701783648.\n",
      "[I 2025-07-06 00:48:39,660] Trial 9 finished with value: 0.7121640476976582 and parameters: {'learning_rate': 0.17407572591108525, 'max_leaf_nodes': 71, 'max_depth': 2, 'min_samples_leaf': 58, 'l2_regularization': 0.44652734399782146}. Best is trial 1 with value: 0.7129536701783648.\n",
      "[I 2025-07-06 00:48:44,969] Trial 10 finished with value: 0.6069344722199782 and parameters: {'learning_rate': 0.001155764234646529, 'max_leaf_nodes': 173, 'max_depth': 2, 'min_samples_leaf': 25, 'l2_regularization': 0.8827045334333374}. Best is trial 1 with value: 0.7129536701783648.\n",
      "[I 2025-07-06 00:48:49,575] Trial 11 finished with value: 0.7119081734813602 and parameters: {'learning_rate': 0.11844302094213141, 'max_leaf_nodes': 44, 'max_depth': 2, 'min_samples_leaf': 32, 'l2_regularization': 0.3037086112354941}. Best is trial 1 with value: 0.7129536701783648.\n",
      "[I 2025-07-06 00:48:54,976] Trial 12 finished with value: 0.7047237636094221 and parameters: {'learning_rate': 0.04930330130851566, 'max_leaf_nodes': 94, 'max_depth': 3, 'min_samples_leaf': 199, 'l2_regularization': 0.45572985427140733}. Best is trial 1 with value: 0.7129536701783648.\n",
      "[I 2025-07-06 00:48:58,236] Trial 13 finished with value: 0.7120466958784284 and parameters: {'learning_rate': 0.28855117410689457, 'max_leaf_nodes': 17, 'max_depth': 3, 'min_samples_leaf': 72, 'l2_regularization': 0.637894125644728}. Best is trial 1 with value: 0.7129536701783648.\n",
      "[I 2025-07-06 00:49:02,347] Trial 14 finished with value: 0.7092239947638361 and parameters: {'learning_rate': 0.10786402499400373, 'max_leaf_nodes': 178, 'max_depth': 10, 'min_samples_leaf': 71, 'l2_regularization': 1.0547229815153962}. Best is trial 1 with value: 0.7129536701783648.\n",
      "[I 2025-07-06 00:49:10,014] Trial 15 finished with value: 0.7029391621246237 and parameters: {'learning_rate': 0.031414619601576765, 'max_leaf_nodes': 85, 'max_depth': 3, 'min_samples_leaf': 38, 'l2_regularization': 0.017182149545301506}. Best is trial 1 with value: 0.7129536701783648.\n",
      "[I 2025-07-06 00:49:16,821] Trial 16 finished with value: 0.6197323341392932 and parameters: {'learning_rate': 0.002678667497379691, 'max_leaf_nodes': 251, 'max_depth': 2, 'min_samples_leaf': 52, 'l2_regularization': 0.4776355554989955}. Best is trial 1 with value: 0.7129536701783648.\n",
      "[I 2025-07-06 00:49:21,215] Trial 17 finished with value: 0.710888163005671 and parameters: {'learning_rate': 0.16507035090596284, 'max_leaf_nodes': 73, 'max_depth': 4, 'min_samples_leaf': 95, 'l2_regularization': 1.0543366009679331}. Best is trial 1 with value: 0.7129536701783648.\n",
      "[I 2025-07-06 00:49:26,085] Trial 18 finished with value: 0.7121226216649624 and parameters: {'learning_rate': 0.066168509683609, 'max_leaf_nodes': 147, 'max_depth': 8, 'min_samples_leaf': 11, 'l2_regularization': 0.2849441284280172}. Best is trial 1 with value: 0.7129536701783648.\n",
      "[I 2025-07-06 00:49:33,516] Trial 19 finished with value: 0.6987887963663771 and parameters: {'learning_rate': 0.021359495788321727, 'max_leaf_nodes': 186, 'max_depth': 4, 'min_samples_leaf': 136, 'l2_regularization': 0.6358602740813933}. Best is trial 1 with value: 0.7129536701783648.\n",
      "[I 2025-07-06 00:49:38,028] Trial 20 finished with value: 0.7115325976197477 and parameters: {'learning_rate': 0.18459555701236705, 'max_leaf_nodes': 251, 'max_depth': 3, 'min_samples_leaf': 91, 'l2_regularization': 0.9058015920957747}. Best is trial 1 with value: 0.7129536701783648.\n",
      "[I 2025-07-06 00:49:42,009] Trial 21 finished with value: 0.7104032968460381 and parameters: {'learning_rate': 0.07854082496154954, 'max_leaf_nodes': 158, 'max_depth': 7, 'min_samples_leaf': 50, 'l2_regularization': 0.3357434022361022}. Best is trial 1 with value: 0.7129536701783648.\n",
      "[I 2025-07-06 00:49:47,569] Trial 22 finished with value: 0.7127699330618329 and parameters: {'learning_rate': 0.06297787967963545, 'max_leaf_nodes': 136, 'max_depth': 8, 'min_samples_leaf': 17, 'l2_regularization': 0.20844822121691528}. Best is trial 1 with value: 0.7129536701783648.\n",
      "[I 2025-07-06 00:49:50,316] Trial 23 finished with value: 0.7117556895746213 and parameters: {'learning_rate': 0.11360355517128182, 'max_leaf_nodes': 118, 'max_depth': 8, 'min_samples_leaf': 12, 'l2_regularization': 0.20119720270893654}. Best is trial 1 with value: 0.7129536701783648.\n",
      "[I 2025-07-06 00:49:52,203] Trial 24 finished with value: 0.7082463948827495 and parameters: {'learning_rate': 0.237515094959845, 'max_leaf_nodes': 69, 'max_depth': 10, 'min_samples_leaf': 53, 'l2_regularization': 0.47825049263095665}. Best is trial 1 with value: 0.7129536701783648.\n",
      "[I 2025-07-06 00:50:02,802] Trial 25 finished with value: 0.7104518756570796 and parameters: {'learning_rate': 0.038547106767405886, 'max_leaf_nodes': 199, 'max_depth': 8, 'min_samples_leaf': 121, 'l2_regularization': 0.10714784676193989}. Best is trial 1 with value: 0.7129536701783648.\n",
      "[I 2025-07-06 00:50:06,535] Trial 26 finished with value: 0.7113069802912286 and parameters: {'learning_rate': 0.13488433028701421, 'max_leaf_nodes': 134, 'max_depth': 7, 'min_samples_leaf': 95, 'l2_regularization': 0.6607146869972091}. Best is trial 1 with value: 0.7129536701783648.\n",
      "[I 2025-07-06 00:50:13,428] Trial 27 finished with value: 0.7098441076731986 and parameters: {'learning_rate': 0.05697579862979365, 'max_leaf_nodes': 104, 'max_depth': 9, 'min_samples_leaf': 25, 'l2_regularization': 0.4234312117026011}. Best is trial 1 with value: 0.7129536701783648.\n",
      "[I 2025-07-06 00:50:18,919] Trial 28 finished with value: 0.7112958833574758 and parameters: {'learning_rate': 0.21634014020697273, 'max_leaf_nodes': 19, 'max_depth': 2, 'min_samples_leaf': 62, 'l2_regularization': 0.014744292333365383}. Best is trial 1 with value: 0.7129536701783648.\n",
      "[I 2025-07-06 00:50:25,198] Trial 29 finished with value: 0.712532581118524 and parameters: {'learning_rate': 0.09050317022170773, 'max_leaf_nodes': 202, 'max_depth': 4, 'min_samples_leaf': 42, 'l2_regularization': 0.20366212902268505}. Best is trial 1 with value: 0.7129536701783648.\n",
      "[I 2025-07-06 00:50:33,313] Trial 30 finished with value: 0.7080235754474182 and parameters: {'learning_rate': 0.024770605913208982, 'max_leaf_nodes': 204, 'max_depth': 5, 'min_samples_leaf': 39, 'l2_regularization': 0.1985554526604401}. Best is trial 1 with value: 0.7129536701783648.\n",
      "[I 2025-07-06 00:50:39,592] Trial 31 finished with value: 0.7125186501510946 and parameters: {'learning_rate': 0.08810304843493162, 'max_leaf_nodes': 238, 'max_depth': 4, 'min_samples_leaf': 43, 'l2_regularization': 0.19827509866053722}. Best is trial 1 with value: 0.7129536701783648.\n",
      "[I 2025-07-06 00:50:44,178] Trial 32 finished with value: 0.7110358517165067 and parameters: {'learning_rate': 0.0873834107354019, 'max_leaf_nodes': 236, 'max_depth': 4, 'min_samples_leaf': 16, 'l2_regularization': 0.15981596598261083}. Best is trial 1 with value: 0.7129536701783648.\n",
      "[I 2025-07-06 00:50:51,476] Trial 33 finished with value: 0.7121626869606894 and parameters: {'learning_rate': 0.049513111632115143, 'max_leaf_nodes': 204, 'max_depth': 5, 'min_samples_leaf': 41, 'l2_regularization': 0.30367755438097066}. Best is trial 1 with value: 0.7129536701783648.\n",
      "[I 2025-07-06 00:50:53,131] Trial 34 finished with value: 0.7093538466256855 and parameters: {'learning_rate': 0.29355501142482743, 'max_leaf_nodes': 237, 'max_depth': 5, 'min_samples_leaf': 83, 'l2_regularization': 0.13647815972161736}. Best is trial 1 with value: 0.7129536701783648.\n",
      "[I 2025-07-06 00:50:59,244] Trial 35 finished with value: 0.7113592331899501 and parameters: {'learning_rate': 0.08785001856829236, 'max_leaf_nodes': 214, 'max_depth': 6, 'min_samples_leaf': 161, 'l2_regularization': 0.575164780614215}. Best is trial 1 with value: 0.7129536701783648.\n",
      "[I 2025-07-06 00:51:02,575] Trial 36 finished with value: 0.7107134225143081 and parameters: {'learning_rate': 0.14925901187454763, 'max_leaf_nodes': 166, 'max_depth': 4, 'min_samples_leaf': 118, 'l2_regularization': 0.008811831968418726}. Best is trial 1 with value: 0.7129536701783648.\n",
      "[I 2025-07-06 00:51:08,331] Trial 37 finished with value: 0.6826379789933898 and parameters: {'learning_rate': 0.012394596074944059, 'max_leaf_nodes': 192, 'max_depth': 3, 'min_samples_leaf': 108, 'l2_regularization': 0.8309013745037781}. Best is trial 1 with value: 0.7129536701783648.\n",
      "[I 2025-07-06 00:51:17,332] Trial 38 finished with value: 0.7099440151219117 and parameters: {'learning_rate': 0.039634095334090985, 'max_leaf_nodes': 135, 'max_depth': 6, 'min_samples_leaf': 25, 'l2_regularization': 1.2359626471851217}. Best is trial 1 with value: 0.7129536701783648.\n",
      "[I 2025-07-06 00:51:22,390] Trial 39 finished with value: 0.71076982118547 and parameters: {'learning_rate': 0.06673174249910303, 'max_leaf_nodes': 240, 'max_depth': 5, 'min_samples_leaf': 64, 'l2_regularization': 1.7111045391807742}. Best is trial 1 with value: 0.7129536701783648.\n",
      "[I 2025-07-06 00:51:32,723] Trial 40 finished with value: 0.6808407315600636 and parameters: {'learning_rate': 0.005442264051493067, 'max_leaf_nodes': 220, 'max_depth': 9, 'min_samples_leaf': 153, 'l2_regularization': 0.7676573253145316}. Best is trial 1 with value: 0.7129536701783648.\n",
      "[I 2025-07-06 00:51:37,296] Trial 41 finished with value: 0.7118199035158495 and parameters: {'learning_rate': 0.21184792767843655, 'max_leaf_nodes': 219, 'max_depth': 2, 'min_samples_leaf': 45, 'l2_regularization': 0.3738249451100568}. Best is trial 1 with value: 0.7129536701783648.\n",
      "[I 2025-07-06 00:51:41,997] Trial 42 finished with value: 0.7113263922754672 and parameters: {'learning_rate': 0.15046048065378373, 'max_leaf_nodes': 59, 'max_depth': 3, 'min_samples_leaf': 32, 'l2_regularization': 0.5328692670596978}. Best is trial 1 with value: 0.7129536701783648.\n",
      "[I 2025-07-06 00:51:45,033] Trial 43 finished with value: 0.7115511209196097 and parameters: {'learning_rate': 0.1840143750391933, 'max_leaf_nodes': 256, 'max_depth': 4, 'min_samples_leaf': 60, 'l2_regularization': 0.24409190364737227}. Best is trial 1 with value: 0.7129536701783648.\n",
      "[I 2025-07-06 00:51:49,142] Trial 44 finished with value: 0.7116593284718628 and parameters: {'learning_rate': 0.11020945604423761, 'max_leaf_nodes': 225, 'max_depth': 3, 'min_samples_leaf': 21, 'l2_regularization': 0.3846126830843183}. Best is trial 1 with value: 0.7129536701783648.\n",
      "[I 2025-07-06 00:51:53,166] Trial 45 finished with value: 0.7104230652287005 and parameters: {'learning_rate': 0.09368099996206641, 'max_leaf_nodes': 38, 'max_depth': 2, 'min_samples_leaf': 33, 'l2_regularization': 0.10680510414042858}. Best is trial 1 with value: 0.7129536701783648.\n",
      "[I 2025-07-06 00:51:55,314] Trial 46 finished with value: 0.7092136934109999 and parameters: {'learning_rate': 0.2521158289127435, 'max_leaf_nodes': 104, 'max_depth': 4, 'min_samples_leaf': 135, 'l2_regularization': 0.2510574380538796}. Best is trial 1 with value: 0.7129536701783648.\n",
      "[I 2025-07-06 00:52:00,752] Trial 47 finished with value: 0.7114384913065572 and parameters: {'learning_rate': 0.14281001408781088, 'max_leaf_nodes': 233, 'max_depth': 3, 'min_samples_leaf': 85, 'l2_regularization': 1.9998502031292855}. Best is trial 1 with value: 0.7129536701783648.\n",
      "[I 2025-07-06 00:52:04,923] Trial 48 finished with value: 0.6737436794441499 and parameters: {'learning_rate': 0.01337307574525876, 'max_leaf_nodes': 211, 'max_depth': 2, 'min_samples_leaf': 103, 'l2_regularization': 0.5484125586474963}. Best is trial 1 with value: 0.7129536701783648.\n",
      "[I 2025-07-06 00:52:10,794] Trial 49 finished with value: 0.7111471728814353 and parameters: {'learning_rate': 0.05669516142842697, 'max_leaf_nodes': 178, 'max_depth': 6, 'min_samples_leaf': 46, 'l2_regularization': 0.7111760232451341}. Best is trial 1 with value: 0.7129536701783648.\n",
      "[I 2025-07-06 00:52:14,889] Trial 50 finished with value: 0.7114799140751142 and parameters: {'learning_rate': 0.1834025953524528, 'max_leaf_nodes': 244, 'max_depth': 3, 'min_samples_leaf': 180, 'l2_regularization': 0.08440190924548858}. Best is trial 1 with value: 0.7129536701783648.\n",
      "[I 2025-07-06 00:52:22,280] Trial 51 finished with value: 0.711314462775338 and parameters: {'learning_rate': 0.042438173573591906, 'max_leaf_nodes': 204, 'max_depth': 5, 'min_samples_leaf': 41, 'l2_regularization': 0.34044779333308073}. Best is trial 1 with value: 0.7129536701783648.\n",
      "[I 2025-07-06 00:52:29,106] Trial 52 finished with value: 0.7076835255871103 and parameters: {'learning_rate': 0.02894558854094359, 'max_leaf_nodes': 191, 'max_depth': 4, 'min_samples_leaf': 31, 'l2_regularization': 0.24642165682613992}. Best is trial 1 with value: 0.7129536701783648.\n",
      "[I 2025-07-06 00:52:37,059] Trial 53 finished with value: 0.7111658147922909 and parameters: {'learning_rate': 0.05460008758571456, 'max_leaf_nodes': 86, 'max_depth': 5, 'min_samples_leaf': 55, 'l2_regularization': 0.446940877690684}. Best is trial 1 with value: 0.7129536701783648.\n",
      "[I 2025-07-06 00:52:41,693] Trial 54 finished with value: 0.7108517857638278 and parameters: {'learning_rate': 0.11987458957564061, 'max_leaf_nodes': 144, 'max_depth': 5, 'min_samples_leaf': 69, 'l2_regularization': 0.3015037938719757}. Best is trial 1 with value: 0.7129536701783648.\n",
      "[I 2025-07-06 00:52:48,033] Trial 55 finished with value: 0.7127080839843826 and parameters: {'learning_rate': 0.07093816973929178, 'max_leaf_nodes': 164, 'max_depth': 4, 'min_samples_leaf': 19, 'l2_regularization': 0.18352270912408933}. Best is trial 1 with value: 0.7129536701783648.\n",
      "[I 2025-07-06 00:52:54,738] Trial 56 finished with value: 0.7122617229446806 and parameters: {'learning_rate': 0.06705141398879985, 'max_leaf_nodes': 160, 'max_depth': 4, 'min_samples_leaf': 18, 'l2_regularization': 0.19561277505689906}. Best is trial 1 with value: 0.7129536701783648.\n",
      "[I 2025-07-06 00:53:01,318] Trial 57 finished with value: 0.711588833386474 and parameters: {'learning_rate': 0.07171360310079604, 'max_leaf_nodes': 166, 'max_depth': 4, 'min_samples_leaf': 19, 'l2_regularization': 0.05391285302594137}. Best is trial 1 with value: 0.7129536701783648.\n",
      "[I 2025-07-06 00:53:09,230] Trial 58 finished with value: 0.6406785056736768 and parameters: {'learning_rate': 0.0012410872847775983, 'max_leaf_nodes': 126, 'max_depth': 4, 'min_samples_leaf': 13, 'l2_regularization': 0.17259844630897592}. Best is trial 1 with value: 0.7129536701783648.\n",
      "[I 2025-07-06 00:53:16,373] Trial 59 finished with value: 0.7013474663598498 and parameters: {'learning_rate': 0.01745883615456629, 'max_leaf_nodes': 157, 'max_depth': 4, 'min_samples_leaf': 10, 'l2_regularization': 0.20280126620855743}. Best is trial 1 with value: 0.7129536701783648.\n",
      "[I 2025-07-06 00:53:22,949] Trial 60 finished with value: 0.7013787181099806 and parameters: {'learning_rate': 0.03210208887393581, 'max_leaf_nodes': 150, 'max_depth': 3, 'min_samples_leaf': 26, 'l2_regularization': 1.219621379969635}. Best is trial 1 with value: 0.7129536701783648.\n",
      "[I 2025-07-06 00:53:28,739] Trial 61 finished with value: 0.7116824525109064 and parameters: {'learning_rate': 0.09063880978508332, 'max_leaf_nodes': 180, 'max_depth': 3, 'min_samples_leaf': 34, 'l2_regularization': 0.40570000653157273}. Best is trial 1 with value: 0.7129536701783648.\n",
      "[I 2025-07-06 00:53:31,686] Trial 62 finished with value: 0.7116382994690575 and parameters: {'learning_rate': 0.10589501162913761, 'max_leaf_nodes': 227, 'max_depth': 7, 'min_samples_leaf': 20, 'l2_regularization': 0.0975341946815867}. Best is trial 1 with value: 0.7129536701783648.\n",
      "[I 2025-07-06 00:53:36,025] Trial 63 finished with value: 0.7080075406815028 and parameters: {'learning_rate': 0.07254723141975924, 'max_leaf_nodes': 168, 'max_depth': 2, 'min_samples_leaf': 28, 'l2_regularization': 0.5000327371297448}. Best is trial 1 with value: 0.7129536701783648.\n",
      "[I 2025-07-06 00:53:41,232] Trial 64 finished with value: 0.7119691992641249 and parameters: {'learning_rate': 0.12855143461143412, 'max_leaf_nodes': 246, 'max_depth': 3, 'min_samples_leaf': 117, 'l2_regularization': 0.3535858883194167}. Best is trial 1 with value: 0.7129536701783648.\n",
      "[I 2025-07-06 00:53:47,476] Trial 65 finished with value: 0.7117689788312488 and parameters: {'learning_rate': 0.047160369990443235, 'max_leaf_nodes': 108, 'max_depth': 4, 'min_samples_leaf': 37, 'l2_regularization': 0.15849327823116174}. Best is trial 1 with value: 0.7129536701783648.\n",
      "[I 2025-07-06 00:53:52,749] Trial 66 finished with value: 0.7108651312720754 and parameters: {'learning_rate': 0.18790318463556316, 'max_leaf_nodes': 117, 'max_depth': 2, 'min_samples_leaf': 130, 'l2_regularization': 0.24697291181441505}. Best is trial 1 with value: 0.7129536701783648.\n",
      "[I 2025-07-06 00:53:55,516] Trial 67 finished with value: 0.7125696708226501 and parameters: {'learning_rate': 0.25030867364675197, 'max_leaf_nodes': 143, 'max_depth': 3, 'min_samples_leaf': 45, 'l2_regularization': 0.04068434232366894}. Best is trial 1 with value: 0.7129536701783648.\n",
      "[I 2025-07-06 00:53:57,629] Trial 68 finished with value: 0.7098355010827155 and parameters: {'learning_rate': 0.24884822525377312, 'max_leaf_nodes': 125, 'max_depth': 4, 'min_samples_leaf': 45, 'l2_regularization': 0.008324313580164333}. Best is trial 1 with value: 0.7129536701783648.\n",
      "[I 2025-07-06 00:53:59,188] Trial 69 finished with value: 0.7116254942606888 and parameters: {'learning_rate': 0.28778899926721274, 'max_leaf_nodes': 141, 'max_depth': 6, 'min_samples_leaf': 18, 'l2_regularization': 0.0567536935775661}. Best is trial 1 with value: 0.7129536701783648.\n",
      "[I 2025-07-06 00:54:05,934] Trial 70 finished with value: 0.6951907028171584 and parameters: {'learning_rate': 0.026638616436490115, 'max_leaf_nodes': 158, 'max_depth': 3, 'min_samples_leaf': 143, 'l2_regularization': 0.19830813762385383}. Best is trial 1 with value: 0.7129536701783648.\n",
      "[I 2025-07-06 00:54:07,733] Trial 71 finished with value: 0.7096553428760284 and parameters: {'learning_rate': 0.2167378786247827, 'max_leaf_nodes': 131, 'max_depth': 9, 'min_samples_leaf': 56, 'l2_regularization': 0.5986269740083068}. Best is trial 1 with value: 0.7129536701783648.\n",
      "[I 2025-07-06 00:54:11,763] Trial 72 finished with value: 0.7120154695696345 and parameters: {'learning_rate': 0.1580443816904605, 'max_leaf_nodes': 194, 'max_depth': 3, 'min_samples_leaf': 49, 'l2_regularization': 0.31533345129600465}. Best is trial 1 with value: 0.7129536701783648.\n",
      "[I 2025-07-06 00:54:16,011] Trial 73 finished with value: 0.7060640107156698 and parameters: {'learning_rate': 0.06348066758443485, 'max_leaf_nodes': 182, 'max_depth': 2, 'min_samples_leaf': 23, 'l2_regularization': 0.13073426576708308}. Best is trial 1 with value: 0.7129536701783648.\n",
      "[I 2025-07-06 00:54:20,100] Trial 74 finished with value: 0.7102595194275253 and parameters: {'learning_rate': 0.0787468744518435, 'max_leaf_nodes': 173, 'max_depth': 8, 'min_samples_leaf': 67, 'l2_regularization': 0.42426871789579884}. Best is trial 1 with value: 0.7129536701783648.\n",
      "[I 2025-07-06 00:54:23,565] Trial 75 finished with value: 0.7111032219588854 and parameters: {'learning_rate': 0.10576063541721822, 'max_leaf_nodes': 30, 'max_depth': 10, 'min_samples_leaf': 78, 'l2_regularization': 0.27766082136887077}. Best is trial 1 with value: 0.7129536701783648.\n",
      "[I 2025-07-06 00:54:26,909] Trial 76 finished with value: 0.7128003284265432 and parameters: {'learning_rate': 0.13279199499983732, 'max_leaf_nodes': 153, 'max_depth': 4, 'min_samples_leaf': 16, 'l2_regularization': 0.07417268630040413}. Best is trial 1 with value: 0.7129536701783648.\n",
      "[I 2025-07-06 00:54:31,254] Trial 77 finished with value: 0.7118241928466691 and parameters: {'learning_rate': 0.09635888669488309, 'max_leaf_nodes': 139, 'max_depth': 4, 'min_samples_leaf': 15, 'l2_regularization': 0.06038836706481526}. Best is trial 1 with value: 0.7129536701783648.\n",
      "[I 2025-07-06 00:54:34,002] Trial 78 finished with value: 0.7107348883556674 and parameters: {'learning_rate': 0.12807710114131773, 'max_leaf_nodes': 152, 'max_depth': 5, 'min_samples_leaf': 28, 'l2_regularization': 0.1429079608626847}. Best is trial 1 with value: 0.7129536701783648.\n",
      "[I 2025-07-06 00:54:38,951] Trial 79 finished with value: 0.7120205107529837 and parameters: {'learning_rate': 0.07941583169236685, 'max_leaf_nodes': 152, 'max_depth': 4, 'min_samples_leaf': 38, 'l2_regularization': 0.003056043205278497}. Best is trial 1 with value: 0.7129536701783648.\n",
      "[I 2025-07-06 00:54:41,188] Trial 80 finished with value: 0.7118439517095757 and parameters: {'learning_rate': 0.2165411144070054, 'max_leaf_nodes': 164, 'max_depth': 4, 'min_samples_leaf': 11, 'l2_regularization': 0.20586365223039066}. Best is trial 1 with value: 0.7129536701783648.\n",
      "[I 2025-07-06 00:54:44,363] Trial 81 finished with value: 0.7121314514810604 and parameters: {'learning_rate': 0.17026102933975434, 'max_leaf_nodes': 211, 'max_depth': 3, 'min_samples_leaf': 17, 'l2_regularization': 0.0928505286196015}. Best is trial 1 with value: 0.7129536701783648.\n",
      "[I 2025-07-06 00:54:46,627] Trial 82 finished with value: 0.7121144555406731 and parameters: {'learning_rate': 0.25022146266323964, 'max_leaf_nodes': 233, 'max_depth': 4, 'min_samples_leaf': 43, 'l2_regularization': 0.20495900296187206}. Best is trial 1 with value: 0.7129536701783648.\n",
      "[I 2025-07-06 00:54:48,040] Trial 83 finished with value: 0.7102361781132185 and parameters: {'learning_rate': 0.2994477389373345, 'max_leaf_nodes': 172, 'max_depth': 5, 'min_samples_leaf': 50, 'l2_regularization': 0.2783766727525936}. Best is trial 1 with value: 0.7129536701783648.\n",
      "[I 2025-07-06 00:54:52,921] Trial 84 finished with value: 0.7122332404776696 and parameters: {'learning_rate': 0.1388118340555101, 'max_leaf_nodes': 57, 'max_depth': 3, 'min_samples_leaf': 60, 'l2_regularization': 0.9057603590313335}. Best is trial 1 with value: 0.7129536701783648.\n",
      "[I 2025-07-06 00:54:58,919] Trial 85 finished with value: 0.7100877864680564 and parameters: {'learning_rate': 0.06307410593045217, 'max_leaf_nodes': 96, 'max_depth': 3, 'min_samples_leaf': 35, 'l2_regularization': 0.9928722528643972}. Best is trial 1 with value: 0.7129536701783648.\n",
      "[I 2025-07-06 00:55:03,658] Trial 86 finished with value: 0.7107271875660117 and parameters: {'learning_rate': 0.14339295251151662, 'max_leaf_nodes': 60, 'max_depth': 3, 'min_samples_leaf': 28, 'l2_regularization': 1.435503203815059}. Best is trial 1 with value: 0.7129536701783648.\n",
      "[I 2025-07-06 00:55:09,685] Trial 87 finished with value: 0.710698217149636 and parameters: {'learning_rate': 0.04719127312936214, 'max_leaf_nodes': 186, 'max_depth': 4, 'min_samples_leaf': 23, 'l2_regularization': 0.8959315957015824}. Best is trial 1 with value: 0.7129536701783648.\n",
      "[I 2025-07-06 00:55:15,321] Trial 88 finished with value: 0.7010997023036831 and parameters: {'learning_rate': 0.036646742630942614, 'max_leaf_nodes': 130, 'max_depth': 3, 'min_samples_leaf': 113, 'l2_regularization': 1.218496671133071}. Best is trial 1 with value: 0.7129536701783648.\n",
      "[I 2025-07-06 00:55:20,801] Trial 89 finished with value: 0.7105826575183946 and parameters: {'learning_rate': 0.10138149314618061, 'max_leaf_nodes': 160, 'max_depth': 5, 'min_samples_leaf': 125, 'l2_regularization': 0.14225549857066128}. Best is trial 1 with value: 0.7129536701783648.\n",
      "[I 2025-07-06 00:55:26,522] Trial 90 finished with value: 0.7111992059030632 and parameters: {'learning_rate': 0.08264577216214859, 'max_leaf_nodes': 221, 'max_depth': 4, 'min_samples_leaf': 103, 'l2_regularization': 1.14331684116623}. Best is trial 1 with value: 0.7129536701783648.\n",
      "[I 2025-07-06 00:55:30,986] Trial 91 finished with value: 0.7110073807525887 and parameters: {'learning_rate': 0.19733529024029287, 'max_leaf_nodes': 74, 'max_depth': 2, 'min_samples_leaf': 59, 'l2_regularization': 0.7941528203764769}. Best is trial 1 with value: 0.7129536701783648.\n",
      "[I 2025-07-06 00:55:33,090] Trial 92 finished with value: 0.7099174620054659 and parameters: {'learning_rate': 0.1632259991352258, 'max_leaf_nodes': 49, 'max_depth': 7, 'min_samples_leaf': 64, 'l2_regularization': 0.06294962144750732}. Best is trial 1 with value: 0.7129536701783648.\n",
      "[I 2025-07-06 00:55:37,820] Trial 93 finished with value: 0.7112654543211202 and parameters: {'learning_rate': 0.11752245653339108, 'max_leaf_nodes': 63, 'max_depth': 3, 'min_samples_leaf': 77, 'l2_regularization': 0.6898890668566563}. Best is trial 1 with value: 0.7129536701783648.\n",
      "[I 2025-07-06 00:55:42,836] Trial 94 finished with value: 0.7126645740831158 and parameters: {'learning_rate': 0.1441904256444104, 'max_leaf_nodes': 44, 'max_depth': 2, 'min_samples_leaf': 31, 'l2_regularization': 0.5006827563881252}. Best is trial 1 with value: 0.7129536701783648.\n",
      "[I 2025-07-06 00:55:47,401] Trial 95 finished with value: 0.7120692220713559 and parameters: {'learning_rate': 0.13167130553465856, 'max_leaf_nodes': 29, 'max_depth': 3, 'min_samples_leaf': 32, 'l2_regularization': 0.5081845739580656}. Best is trial 1 with value: 0.7129536701783648.\n",
      "[I 2025-07-06 00:55:51,578] Trial 96 finished with value: 0.6473933415470822 and parameters: {'learning_rate': 0.005063961959812132, 'max_leaf_nodes': 53, 'max_depth': 2, 'min_samples_leaf': 40, 'l2_regularization': 0.9486407708931963}. Best is trial 1 with value: 0.7129536701783648.\n",
      "[I 2025-07-06 00:55:56,821] Trial 97 finished with value: 0.7107729688694485 and parameters: {'learning_rate': 0.06478515690668624, 'max_leaf_nodes': 249, 'max_depth': 4, 'min_samples_leaf': 15, 'l2_regularization': 1.642827654729133}. Best is trial 1 with value: 0.7129536701783648.\n",
      "[I 2025-07-06 00:56:01,515] Trial 98 finished with value: 0.7044575385581635 and parameters: {'learning_rate': 0.05434489048677061, 'max_leaf_nodes': 148, 'max_depth': 2, 'min_samples_leaf': 21, 'l2_regularization': 0.3598387922207321}. Best is trial 1 with value: 0.7129536701783648.\n",
      "[I 2025-07-06 00:56:06,713] Trial 99 finished with value: 0.7110306206134036 and parameters: {'learning_rate': 0.09110138076069269, 'max_leaf_nodes': 145, 'max_depth': 3, 'min_samples_leaf': 27, 'l2_regularization': 0.22831318613770785}. Best is trial 1 with value: 0.7129536701783648.\n"
     ]
    },
    {
     "data": {
      "text/html": [
       "<div>\n",
       "<style scoped>\n",
       "    .dataframe tbody tr th:only-of-type {\n",
       "        vertical-align: middle;\n",
       "    }\n",
       "\n",
       "    .dataframe tbody tr th {\n",
       "        vertical-align: top;\n",
       "    }\n",
       "\n",
       "    .dataframe thead th {\n",
       "        text-align: right;\n",
       "    }\n",
       "</style>\n",
       "<table border=\"1\" class=\"dataframe\">\n",
       "  <thead>\n",
       "    <tr style=\"text-align: right;\">\n",
       "      <th></th>\n",
       "      <th>mean_F1</th>\n",
       "      <th>learning_rate</th>\n",
       "      <th>max_leaf_nodes</th>\n",
       "      <th>max_depth</th>\n",
       "      <th>min_samples_leaf</th>\n",
       "      <th>l2_regularization</th>\n",
       "    </tr>\n",
       "  </thead>\n",
       "  <tbody>\n",
       "    <tr>\n",
       "      <th>1</th>\n",
       "      <td>0.712954</td>\n",
       "      <td>0.294015</td>\n",
       "      <td>228</td>\n",
       "      <td>3</td>\n",
       "      <td>122</td>\n",
       "      <td>0.526502</td>\n",
       "    </tr>\n",
       "    <tr>\n",
       "      <th>76</th>\n",
       "      <td>0.712800</td>\n",
       "      <td>0.132792</td>\n",
       "      <td>153</td>\n",
       "      <td>4</td>\n",
       "      <td>16</td>\n",
       "      <td>0.074173</td>\n",
       "    </tr>\n",
       "    <tr>\n",
       "      <th>22</th>\n",
       "      <td>0.712770</td>\n",
       "      <td>0.062978</td>\n",
       "      <td>136</td>\n",
       "      <td>8</td>\n",
       "      <td>17</td>\n",
       "      <td>0.208448</td>\n",
       "    </tr>\n",
       "    <tr>\n",
       "      <th>55</th>\n",
       "      <td>0.712708</td>\n",
       "      <td>0.070938</td>\n",
       "      <td>164</td>\n",
       "      <td>4</td>\n",
       "      <td>19</td>\n",
       "      <td>0.183523</td>\n",
       "    </tr>\n",
       "    <tr>\n",
       "      <th>94</th>\n",
       "      <td>0.712665</td>\n",
       "      <td>0.144190</td>\n",
       "      <td>44</td>\n",
       "      <td>2</td>\n",
       "      <td>31</td>\n",
       "      <td>0.500683</td>\n",
       "    </tr>\n",
       "  </tbody>\n",
       "</table>\n",
       "</div>"
      ],
      "text/plain": [
       "     mean_F1  learning_rate  max_leaf_nodes  max_depth  min_samples_leaf  \\\n",
       "1   0.712954       0.294015             228          3               122   \n",
       "76  0.712800       0.132792             153          4                16   \n",
       "22  0.712770       0.062978             136          8                17   \n",
       "55  0.712708       0.070938             164          4                19   \n",
       "94  0.712665       0.144190              44          2                31   \n",
       "\n",
       "    l2_regularization  \n",
       "1            0.526502  \n",
       "76           0.074173  \n",
       "22           0.208448  \n",
       "55           0.183523  \n",
       "94           0.500683  "
      ]
     },
     "metadata": {},
     "output_type": "display_data"
    }
   ],
   "source": [
    "# Your code here\n",
    "# Step 1. Define preprocess pipeline\n",
    "\n",
    "enc = OrdinalEncoder(\n",
    "    handle_unknown=\"use_encoded_value\",\n",
    "    unknown_value=-1,\n",
    "    encoded_missing_value=-2,\n",
    "    dtype=np.int64\n",
    ")\n",
    "\n",
    "cat_cols = X.select_dtypes(exclude=[\"number\"]).columns.tolist()\n",
    "num_cols = X.select_dtypes(include=[\"number\"]).columns.tolist()\n",
    "\n",
    "preprocess = ColumnTransformer([\n",
    "    (\"cat\", enc, cat_cols),\n",
    "    (\"num\", \"passthrough\", num_cols)\n",
    "])\n",
    "\n",
    "#  Step 2. Define StratifiedKFold CV\n",
    "skf = StratifiedKFold(n_splits=5, shuffle=True, random_state=42)\n",
    "\n",
    "# Step 3. Define Optuna objective function\n",
    "\n",
    "def objective(trial):\n",
    "    learning_rate = trial.suggest_float(\"learning_rate\", 1e-3, 0.3, log=True)\n",
    "    max_leaf_nodes = trial.suggest_int(\"max_leaf_nodes\", 16, 256)\n",
    "    max_depth = trial.suggest_int(\"max_depth\", 2, 10)\n",
    "    min_samples_leaf = trial.suggest_int(\"min_samples_leaf\", 10, 200)\n",
    "    l2_regularization = trial.suggest_float(\"l2_regularization\", 0.0, 2.0)\n",
    "    \n",
    "    model = HistGradientBoostingClassifier(\n",
    "        learning_rate=learning_rate,\n",
    "        max_leaf_nodes=max_leaf_nodes,\n",
    "        max_depth=max_depth,\n",
    "        min_samples_leaf=min_samples_leaf,\n",
    "        l2_regularization=l2_regularization,\n",
    "        max_iter=500,\n",
    "        early_stopping=True,\n",
    "        n_iter_no_change=20,\n",
    "        validation_fraction=0.2,\n",
    "        tol=1e-7,\n",
    "        class_weight=\"balanced\",\n",
    "        random_state=42\n",
    "    )\n",
    "    \n",
    "    pipeline = Pipeline([\n",
    "        (\"prep\", preprocess),\n",
    "        (\"gb\", model)\n",
    "    ])\n",
    "    \n",
    "    f1_scores = cross_val_score(\n",
    "        pipeline,\n",
    "        X_train,\n",
    "        y_train,\n",
    "        scoring='f1',\n",
    "        cv=skf,\n",
    "        n_jobs=-1\n",
    "    )\n",
    "    \n",
    "    return f1_scores.mean()\n",
    "\n",
    "# Step 4. Create and run Optuna study\n",
    "\n",
    "study = optuna.create_study(direction=\"maximize\")\n",
    "study.optimize(objective, n_trials=100)  # Adjust n_trials to your runtime capacity\n",
    "\n",
    "# Step 5. Display top 5 trials in a clean table\n",
    "\n",
    "optuna_df = study.trials_dataframe().sort_values(by=\"value\", ascending=False)\n",
    "\n",
    "top5_optuna = optuna_df[['value', 'params_learning_rate', 'params_max_leaf_nodes',\n",
    "                         'params_max_depth', 'params_min_samples_leaf', 'params_l2_regularization']].head(5)\n",
    "\n",
    "top5_optuna = top5_optuna.rename(columns={\n",
    "    'value': 'mean_F1',\n",
    "    'params_learning_rate': 'learning_rate',\n",
    "    'params_max_leaf_nodes': 'max_leaf_nodes',\n",
    "    'params_max_depth': 'max_depth',\n",
    "    'params_min_samples_leaf': 'min_samples_leaf',\n",
    "    'params_l2_regularization': 'l2_regularization'\n",
    "})\n",
    "\n",
    "display(top5_optuna)"
   ]
  },
  {
   "cell_type": "markdown",
   "metadata": {},
   "source": [
    "### Problem 3 Graded Answer\n",
    "\n",
    "Set `a3` to the mean F1 score of the best model found. "
   ]
  },
  {
   "cell_type": "code",
   "execution_count": 14,
   "metadata": {},
   "outputs": [],
   "source": [
    " # Your answer here\n",
    "\n",
    "a3 = 0.712954               # replace 0 with your answer, may copy from the displayed results\n"
   ]
  },
  {
   "cell_type": "code",
   "execution_count": 15,
   "metadata": {},
   "outputs": [
    {
     "name": "stdout",
     "output_type": "stream",
     "text": [
      "a3 = 0.7130\n"
     ]
    }
   ],
   "source": [
    "# DO NOT change this cell in any way\n",
    "\n",
    "print(f'a3 = {a3:.4f}')"
   ]
  },
  {
   "cell_type": "markdown",
   "metadata": {},
   "source": [
    "## Problem 4: Final Model Evaluation on Test Set\n",
    "\n",
    "In this problem, you will take the best hyperparameter configuration you found in your earlier experiments (Randomized Search or Optuna) and fully evaluate the resulting model on the test set.\n",
    "\n",
    "**Background:**\n",
    "When performing hyperparameter tuning, we typically optimize for a single metric (e.g., F1). However, before deployment, it is essential to check **all relevant metrics** on the final test set to understand the model’s behavior in a balanced way.\n",
    "\n",
    "**Instructions:**\n",
    "\n",
    "1. Take the best hyperparameters you found in Problems 2 or 3 and apply them to your `pipelined_model`.\n",
    "2. Re-train this final tuned model on the **entire training set** (not just the folds).\n",
    "3. Evaluate the final model on the heldout **test set**, reporting the following metrics:\n",
    "\n",
    "   * Precision\n",
    "   * Recall\n",
    "   * F1 score\n",
    "   * Balanced accuracy\n",
    "4. Use `classification_report` **on the test set** to print precision, recall, and F1 score, and use `balanced_accuracy_score` separately to calculate and print balanced accuracy.\n",
    "5. Answer the graded questions.\n",
    "\n",
    "**Note:** We evaluate the metrics on the test set because it was never seen during training or hyperparameter tuning. This gives us an unbiased estimate of how the model will perform on truly unseen data. Evaluating on the training set would be misleading, because the model has already learned from that data and could appear artificially good.\n"
   ]
  },
  {
   "cell_type": "code",
   "execution_count": 27,
   "metadata": {},
   "outputs": [
    {
     "name": "stdout",
     "output_type": "stream",
     "text": [
      "Balanced Accuracy: 0.8478\n",
      "Macro Average Precision: 0.7806\n",
      "Macro Average Recall: 0.8478\n"
     ]
    }
   ],
   "source": [
    "# Your code here\n",
    "from sklearn.metrics import classification_report, balanced_accuracy_score\n",
    "\n",
    "# Picked theChoose Optuna because:Its best mean F1 (0.712954) is slightly higher than RandomizedSearchCV (0.7120).\n",
    "\n",
    "# Define best hyperparameters from Optuna\n",
    "best_hyperparams = {\n",
    "    'learning_rate': 0.294015,\n",
    "    'max_leaf_nodes': 228,\n",
    "    'max_depth': 3,\n",
    "    'min_samples_leaf': 122,\n",
    "    'l2_regularization': 0.526502\n",
    "}\n",
    "\n",
    "# Define final tuned HGBC model\n",
    "final_model = HistGradientBoostingClassifier(\n",
    "    **best_hyperparams,\n",
    "    max_iter=500,\n",
    "    early_stopping=True,\n",
    "    n_iter_no_change=20,\n",
    "    validation_fraction=0.2,\n",
    "    tol=1e-7,\n",
    "    class_weight=\"balanced\",\n",
    "    random_state=42\n",
    ")\n",
    "\n",
    "# Create pipeline\n",
    "final_pipeline = Pipeline([\n",
    "    (\"prep\", preprocess),\n",
    "    (\"gb\", final_model)\n",
    "])\n",
    "\n",
    "# Retrain on full training set\n",
    "final_pipeline.fit(X_train, y_train)\n",
    "\n",
    "# Predict on test set\n",
    "y_pred = final_pipeline.predict(X_test)\n",
    "\n",
    "# Get classification report as dictionary\n",
    "report = classification_report(y_test, y_pred, output_dict=True)\n",
    "\n",
    "# Extract macro average precision and recall\n",
    "macro_precision = report['macro avg']['precision']\n",
    "macro_recall = report['macro avg']['recall']\n",
    "\n",
    "# Calculate balanced accuracy\n",
    "bal_acc = balanced_accuracy_score(y_test, y_pred)\n",
    "\n",
    "# Print results\n",
    "print(\"Balanced Accuracy:\", round(bal_acc, 4))\n",
    "print(\"Macro Average Precision:\", round(macro_precision, 4))\n",
    "print(\"Macro Average Recall:\", round(macro_recall, 4))\n"
   ]
  },
  {
   "cell_type": "markdown",
   "metadata": {},
   "source": [
    "### Problem 4 Graded Questions\n",
    "\n",
    "- Set `a4a` to the balanced accuracy score of the best model.\n",
    "- Set `a4b` to the macro average precision of this model.\n",
    "- Set `a4c` to the macro average recall score of the this model.\n",
    "\n",
    "**Note:** Macro average takes the mean of each class’s precision/recall without considering how many samples each class has, which is appropriate for a balanced evaluation."
   ]
  },
  {
   "cell_type": "code",
   "execution_count": 28,
   "metadata": {},
   "outputs": [],
   "source": [
    " # Your answer here\n",
    "\n",
    "a4a = bal_acc                     # replace 0 with your answer, use variable or expression from above"
   ]
  },
  {
   "cell_type": "code",
   "execution_count": 20,
   "metadata": {},
   "outputs": [
    {
     "name": "stdout",
     "output_type": "stream",
     "text": [
      "a4a = 0.8478\n"
     ]
    }
   ],
   "source": [
    "# DO NOT change this cell in any way\n",
    "\n",
    "print(f'a4a = {a4a:.4f}')"
   ]
  },
  {
   "cell_type": "code",
   "execution_count": 29,
   "metadata": {},
   "outputs": [],
   "source": [
    " # Your answer here\n",
    "\n",
    "a4b =  macro_precision                   # replace 0 with your answer, may copy from the displayed results"
   ]
  },
  {
   "cell_type": "code",
   "execution_count": 30,
   "metadata": {},
   "outputs": [
    {
     "name": "stdout",
     "output_type": "stream",
     "text": [
      "a4b = 0.7806\n"
     ]
    }
   ],
   "source": [
    "# DO NOT change this cell in any way\n",
    "\n",
    "print(f'a4b = {a4b:.4f}')"
   ]
  },
  {
   "cell_type": "code",
   "execution_count": 31,
   "metadata": {},
   "outputs": [],
   "source": [
    " # Your answer here\n",
    "\n",
    "a4c = macro_recall                   # replace 0 with your answer, may copy from the displayed results"
   ]
  },
  {
   "cell_type": "code",
   "execution_count": 32,
   "metadata": {},
   "outputs": [
    {
     "name": "stdout",
     "output_type": "stream",
     "text": [
      "a4c = 0.8478\n"
     ]
    }
   ],
   "source": [
    "# DO NOT change this cell in any way\n",
    "\n",
    "print(f'a4c = {a4c:.4f}')"
   ]
  },
  {
   "cell_type": "markdown",
   "metadata": {},
   "source": [
    "## Problem 5: Understanding Precision, Recall, F1, and Balanced Accuracy\n",
    "\n",
    "**Tutorial**\n",
    "\n",
    "In binary classification, you will often evaluate these key metrics:\n",
    "\n",
    "* **Precision**: *Of all the positive predictions the model made, how many were actually correct?*\n",
    "\n",
    "  * High precision = few false positives\n",
    "  * Low precision = many false positives\n",
    "\n",
    "* **Recall**: *Of all the actual positive cases, how many did the model correctly identify?*\n",
    "\n",
    "  * High recall = few false negatives\n",
    "  * Low recall = many false negatives\n",
    "\n",
    "* **F1 score**: The harmonic mean of precision and recall, which balances them in a single measure.\n",
    "\n",
    "  * F1 is **highest** when precision and recall are both high and similar in value.\n",
    "  * If precision and recall are unbalanced, F1 will drop to reflect that imbalance.\n",
    "\n",
    "* **Balanced accuracy**: The average of recall across both classes (positive and negative).\n",
    "\n",
    "  * It ensures the classifier is performing reasonably well on *both* groups, correcting for class imbalance.\n",
    "  * Balanced accuracy is especially important if the classes are very unequal in size.\n",
    "\n",
    "**Typical trade-offs to remember:**\n",
    "\n",
    "* **Higher recall, lower precision**: the model finds most true positives but also mislabels some negatives as positives\n",
    "* **Higher precision, lower recall**: the model is strict about positive predictions, but misses some true positives\n",
    "* **Balanced precision and recall (good F1)**: a practical compromise\n",
    "* **Balanced accuracy**: checks fairness across both classes"
   ]
  },
  {
   "cell_type": "markdown",
   "metadata": {},
   "source": [
    "###  Problem 5 Graded Question (multiple choice)\n",
    "\n",
    "A bank uses your model to identify customers earning over $50K for a premium product invitation. Based on your final test set evaluation, including macro-averaged precision and recall, which of the following best describes what might happen?\n",
    "\n",
    "(1) The bank will miss some eligible high-income customers, but will avoid marketing mistakes by sending invitations only to those it is  confident about.\n",
    "\n",
    "(2) The bank will successfully reach most high-income customers, but will also waste resources sending invitations to some low-income customers.\n",
    "\n",
    "(3) The bank will perfectly identify all high-income and low-income customers, resulting in no wasted invitations and no missed opportunities.\n"
   ]
  },
  {
   "cell_type": "code",
   "execution_count": 33,
   "metadata": {},
   "outputs": [],
   "source": [
    " # Your answer here\n",
    "\n",
    "a5 = 2                     # replace 0 with one of 1, 2, or 3"
   ]
  },
  {
   "cell_type": "code",
   "execution_count": 34,
   "metadata": {},
   "outputs": [
    {
     "name": "stdout",
     "output_type": "stream",
     "text": [
      "a5 = 2\n"
     ]
    }
   ],
   "source": [
    "# DO NOT change this cell in any way\n",
    "\n",
    "print(f'a5 = {a5}')"
   ]
  },
  {
   "cell_type": "markdown",
   "metadata": {},
   "source": [
    "### Appendix One: Feature Engineering\n",
    "\n",
    "Here are some practical feature-engineering tweaks worth considering (beyond simply ordinal-encoding the categoricals)\n",
    "\n",
    "| Feature(s)                                                           | Why the tweak can help                                                                                                                                                     | How to do it (quick version)                                                                                                                                                    | Keep / drop?      |\n",
    "| -------------------------------------------------------------------- | -------------------------------------------------------------------------------------------------------------------------------------------------------------------------- | ------------------------------------------------------------------------------------------------------------------------------------------------------------------------------- | ----------------- |\n",
    "| **`fnlwgt`**                                                         | Survey sampling weight, not a predictor. Leaving it in often lets the model “cheat.”                                                                                       | `df = df.drop(columns=[\"fnlwgt\"])`                                                                                                                                              | **Drop**          |\n",
    "| **`education` *vs.* `education-num`**                                | They encode the **same** information twice (categorical label and its ordinal rank). Keeping both is redundant and can cause leakage of a perfectly predictive feature.    | Usually keep **only one**. For tree models `education-num` is simplest: `df = df.drop(columns=[\"education\"])`                                                                   | **Drop one**      |\n",
    "| **`capital-gain`, `capital-loss`**                                   | Highly skewed; most values are zero with a long upper tail. The sign (gain vs. loss) matters, but treating them separately wastes a feature slot.                          | 1) Combine: `df[\"capital_net\"] = df[\"capital-gain\"] - df[\"capital-loss\"]`; 2) Log-transform to reduce skew: `df[\"capital_net_log\"] = np.log1p(df[\"capital_net\"].clip(lower=0))` | Replace originals |\n",
    "| **`age`, `hours-per-week`**                                          | Continuous but with natural plateaus—trees handle splits fine, yet log or square-root scaling can soften extreme values; bucketing makes partial-dependence plots clearer. | Simple bucket: `df[\"age_bin\"] = pd.cut(df[\"age\"], bins=[16,25,35,45,55,65,90])` (optional)                                                                                      | Optional          |\n",
    "| **Missing categories** (`workclass`, `occupation`, `native-country`) | HGB handles `-1`/`-2` codes fine, but you may want *explicit* “Missing” bucket for interpretability.                                                                       | Use `encoded_missing_value=-2` during encoding.                                                                                                            | Keep as is        |\n",
    "| **Rare categories in `native-country`**                              | Hundreds of low-frequency countries dilute signal; grouping boosts stability.                                                                                              | Map infrequent categories to “Other”:                                                                                                                                           |                   |\n",
    "\n",
    "\n",
    "#### Minimum set of tweaks (good baseline, low effort)\n",
    "\n",
    "1. **Drop `fnlwgt`.**  \n",
    "2. **Keep `education-num`, drop `education`.**  \n",
    "3. **Combine `capital-gain` and `capital-loss` into `capital_net`** (optionally add a log-scaled version).  \n",
    "4. Leave other numeric/categorical features as is; your histogram-GBDT will cope.\n",
    "\n",
    "\n"
   ]
  }
 ],
 "metadata": {
  "kernelspec": {
   "display_name": "Python 3 (ipykernel)",
   "language": "python",
   "name": "python3"
  },
  "language_info": {
   "codemirror_mode": {
    "name": "ipython",
    "version": 3
   },
   "file_extension": ".py",
   "mimetype": "text/x-python",
   "name": "python",
   "nbconvert_exporter": "python",
   "pygments_lexer": "ipython3",
   "version": "3.12.7"
  }
 },
 "nbformat": 4,
 "nbformat_minor": 4
}
